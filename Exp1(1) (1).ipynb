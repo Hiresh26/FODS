{
 "cells": [
  {
   "cell_type": "code",
   "execution_count": 1,
   "id": "e7fb37ab-92cd-4154-845d-68fc783a0a3d",
   "metadata": {},
   "outputs": [],
   "source": [
    "import pandas as pd"
   ]
  },
  {
   "cell_type": "code",
   "execution_count": 2,
   "id": "cc387988-cdae-4393-a559-58ee8c9c789a",
   "metadata": {},
   "outputs": [],
   "source": [
    "df = pd.DataFrame({'EmployeeID':[101,102,103,104,105],'Name':['Alice','Bob','Charlie','David','Eva'],'Department':['HR','IT','Finance','IT','HR'],'Salary':[50000,60000,55000,65000,58000]})"
   ]
  },
  {
   "cell_type": "code",
   "execution_count": 11,
   "id": "b707e396-1dbd-4ed2-bde8-d93f0cdd014d",
   "metadata": {},
   "outputs": [],
   "source": [
    "res=df[df['Department']=='IT']['Salary'].mean()"
   ]
  },
  {
   "cell_type": "code",
   "execution_count": 12,
   "id": "f8f09066-2f19-4360-832f-b8acb2ff044d",
   "metadata": {},
   "outputs": [
    {
     "data": {
      "text/plain": [
       "62500.0"
      ]
     },
     "execution_count": 12,
     "metadata": {},
     "output_type": "execute_result"
    }
   ],
   "source": [
    "res"
   ]
  },
  {
   "cell_type": "code",
   "execution_count": 4,
   "id": "d9c971a1-f5f5-4f73-8dcc-7e111c40c5a8",
   "metadata": {},
   "outputs": [
    {
     "data": {
      "text/html": [
       "<div>\n",
       "<style scoped>\n",
       "    .dataframe tbody tr th:only-of-type {\n",
       "        vertical-align: middle;\n",
       "    }\n",
       "\n",
       "    .dataframe tbody tr th {\n",
       "        vertical-align: top;\n",
       "    }\n",
       "\n",
       "    .dataframe thead th {\n",
       "        text-align: right;\n",
       "    }\n",
       "</style>\n",
       "<table border=\"1\" class=\"dataframe\">\n",
       "  <thead>\n",
       "    <tr style=\"text-align: right;\">\n",
       "      <th></th>\n",
       "      <th>Name</th>\n",
       "      <th>Salary</th>\n",
       "    </tr>\n",
       "  </thead>\n",
       "  <tbody>\n",
       "    <tr>\n",
       "      <th>0</th>\n",
       "      <td>Alice</td>\n",
       "      <td>50000</td>\n",
       "    </tr>\n",
       "    <tr>\n",
       "      <th>1</th>\n",
       "      <td>Bob</td>\n",
       "      <td>60000</td>\n",
       "    </tr>\n",
       "    <tr>\n",
       "      <th>2</th>\n",
       "      <td>Charlie</td>\n",
       "      <td>55000</td>\n",
       "    </tr>\n",
       "    <tr>\n",
       "      <th>3</th>\n",
       "      <td>David</td>\n",
       "      <td>65000</td>\n",
       "    </tr>\n",
       "    <tr>\n",
       "      <th>4</th>\n",
       "      <td>Eva</td>\n",
       "      <td>58000</td>\n",
       "    </tr>\n",
       "  </tbody>\n",
       "</table>\n",
       "</div>"
      ],
      "text/plain": [
       "      Name  Salary\n",
       "0    Alice   50000\n",
       "1      Bob   60000\n",
       "2  Charlie   55000\n",
       "3    David   65000\n",
       "4      Eva   58000"
      ]
     },
     "execution_count": 4,
     "metadata": {},
     "output_type": "execute_result"
    }
   ],
   "source": [
    "df[['Name','Salary']]"
   ]
  },
  {
   "cell_type": "code",
   "execution_count": 8,
   "id": "fbc863f8-bfe7-4b92-8ada-bdb6e17ac288",
   "metadata": {},
   "outputs": [],
   "source": [
    "df['Bonus'] = df['Salary']*0.10"
   ]
  },
  {
   "cell_type": "code",
   "execution_count": 9,
   "id": "feacc8f1-aefd-4e58-aa68-a04056a1a5aa",
   "metadata": {},
   "outputs": [
    {
     "data": {
      "text/html": [
       "<div>\n",
       "<style scoped>\n",
       "    .dataframe tbody tr th:only-of-type {\n",
       "        vertical-align: middle;\n",
       "    }\n",
       "\n",
       "    .dataframe tbody tr th {\n",
       "        vertical-align: top;\n",
       "    }\n",
       "\n",
       "    .dataframe thead th {\n",
       "        text-align: right;\n",
       "    }\n",
       "</style>\n",
       "<table border=\"1\" class=\"dataframe\">\n",
       "  <thead>\n",
       "    <tr style=\"text-align: right;\">\n",
       "      <th></th>\n",
       "      <th>EmployeeID</th>\n",
       "      <th>Name</th>\n",
       "      <th>Department</th>\n",
       "      <th>Salary</th>\n",
       "      <th>Bonus</th>\n",
       "    </tr>\n",
       "  </thead>\n",
       "  <tbody>\n",
       "    <tr>\n",
       "      <th>0</th>\n",
       "      <td>101</td>\n",
       "      <td>Alice</td>\n",
       "      <td>HR</td>\n",
       "      <td>50000</td>\n",
       "      <td>5000.0</td>\n",
       "    </tr>\n",
       "    <tr>\n",
       "      <th>1</th>\n",
       "      <td>102</td>\n",
       "      <td>Bob</td>\n",
       "      <td>IT</td>\n",
       "      <td>60000</td>\n",
       "      <td>6000.0</td>\n",
       "    </tr>\n",
       "    <tr>\n",
       "      <th>2</th>\n",
       "      <td>103</td>\n",
       "      <td>Charlie</td>\n",
       "      <td>Finance</td>\n",
       "      <td>55000</td>\n",
       "      <td>5500.0</td>\n",
       "    </tr>\n",
       "    <tr>\n",
       "      <th>3</th>\n",
       "      <td>104</td>\n",
       "      <td>David</td>\n",
       "      <td>IT</td>\n",
       "      <td>65000</td>\n",
       "      <td>6500.0</td>\n",
       "    </tr>\n",
       "    <tr>\n",
       "      <th>4</th>\n",
       "      <td>105</td>\n",
       "      <td>Eva</td>\n",
       "      <td>HR</td>\n",
       "      <td>58000</td>\n",
       "      <td>5800.0</td>\n",
       "    </tr>\n",
       "  </tbody>\n",
       "</table>\n",
       "</div>"
      ],
      "text/plain": [
       "   EmployeeID     Name Department  Salary   Bonus\n",
       "0         101    Alice         HR   50000  5000.0\n",
       "1         102      Bob         IT   60000  6000.0\n",
       "2         103  Charlie    Finance   55000  5500.0\n",
       "3         104    David         IT   65000  6500.0\n",
       "4         105      Eva         HR   58000  5800.0"
      ]
     },
     "execution_count": 9,
     "metadata": {},
     "output_type": "execute_result"
    }
   ],
   "source": [
    "df"
   ]
  },
  {
   "cell_type": "code",
   "execution_count": 10,
   "id": "aabba389-1dbb-4809-a57f-e1351c86b8fe",
   "metadata": {},
   "outputs": [
    {
     "data": {
      "text/html": [
       "<div>\n",
       "<style scoped>\n",
       "    .dataframe tbody tr th:only-of-type {\n",
       "        vertical-align: middle;\n",
       "    }\n",
       "\n",
       "    .dataframe tbody tr th {\n",
       "        vertical-align: top;\n",
       "    }\n",
       "\n",
       "    .dataframe thead th {\n",
       "        text-align: right;\n",
       "    }\n",
       "</style>\n",
       "<table border=\"1\" class=\"dataframe\">\n",
       "  <thead>\n",
       "    <tr style=\"text-align: right;\">\n",
       "      <th></th>\n",
       "      <th>ID</th>\n",
       "      <th>Name</th>\n",
       "      <th>Department</th>\n",
       "      <th>Salary</th>\n",
       "      <th>Bonus</th>\n",
       "    </tr>\n",
       "  </thead>\n",
       "  <tbody>\n",
       "    <tr>\n",
       "      <th>0</th>\n",
       "      <td>101</td>\n",
       "      <td>Alice</td>\n",
       "      <td>HR</td>\n",
       "      <td>50000</td>\n",
       "      <td>5000.0</td>\n",
       "    </tr>\n",
       "    <tr>\n",
       "      <th>1</th>\n",
       "      <td>102</td>\n",
       "      <td>Bob</td>\n",
       "      <td>IT</td>\n",
       "      <td>60000</td>\n",
       "      <td>6000.0</td>\n",
       "    </tr>\n",
       "    <tr>\n",
       "      <th>2</th>\n",
       "      <td>103</td>\n",
       "      <td>Charlie</td>\n",
       "      <td>Finance</td>\n",
       "      <td>55000</td>\n",
       "      <td>5500.0</td>\n",
       "    </tr>\n",
       "    <tr>\n",
       "      <th>3</th>\n",
       "      <td>104</td>\n",
       "      <td>David</td>\n",
       "      <td>IT</td>\n",
       "      <td>65000</td>\n",
       "      <td>6500.0</td>\n",
       "    </tr>\n",
       "    <tr>\n",
       "      <th>4</th>\n",
       "      <td>105</td>\n",
       "      <td>Eva</td>\n",
       "      <td>HR</td>\n",
       "      <td>58000</td>\n",
       "      <td>5800.0</td>\n",
       "    </tr>\n",
       "  </tbody>\n",
       "</table>\n",
       "</div>"
      ],
      "text/plain": [
       "    ID     Name Department  Salary   Bonus\n",
       "0  101    Alice         HR   50000  5000.0\n",
       "1  102      Bob         IT   60000  6000.0\n",
       "2  103  Charlie    Finance   55000  5500.0\n",
       "3  104    David         IT   65000  6500.0\n",
       "4  105      Eva         HR   58000  5800.0"
      ]
     },
     "execution_count": 10,
     "metadata": {},
     "output_type": "execute_result"
    }
   ],
   "source": [
    "df.rename(columns={'EmployeeID':'ID'})\n"
   ]
  },
  {
   "cell_type": "code",
   "execution_count": null,
   "id": "0fa6fa4a-09d6-4ede-830d-99dbea8acb76",
   "metadata": {},
   "outputs": [],
   "source": []
  }
 ],
 "metadata": {
  "kernelspec": {
   "display_name": "Python 3 (ipykernel)",
   "language": "python",
   "name": "python3"
  },
  "language_info": {
   "codemirror_mode": {
    "name": "ipython",
    "version": 3
   },
   "file_extension": ".py",
   "mimetype": "text/x-python",
   "name": "python",
   "nbconvert_exporter": "python",
   "pygments_lexer": "ipython3",
   "version": "3.12.4"
  }
 },
 "nbformat": 4,
 "nbformat_minor": 5
}
